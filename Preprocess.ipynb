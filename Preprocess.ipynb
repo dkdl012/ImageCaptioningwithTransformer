{
 "cells": [
  {
   "cell_type": "code",
   "execution_count": null,
   "metadata": {},
   "outputs": [],
   "source": [
    "from collections import Counter\n",
    "import numpy as np\n",
    "import hickle\n",
    "import json\n",
    "import os\n",
    "import pandas as pd\n",
    "import pickle as pickle\n",
    "from utils import load_coco_data"
   ]
  },
  {
   "cell_type": "code",
   "execution_count": null,
   "metadata": {},
   "outputs": [],
   "source": [
    "def load_pickle(path):\n",
    "    with open(path, 'rb') as f:\n",
    "        file = pickle.load(f)\n",
    "        print('Loaded %s..' %path)\n",
    "        return file  \n",
    "\n",
    "def save_pickle(data, path):\n",
    "    with open(path, 'wb') as f:\n",
    "        pickle.dump(data, f, pickle.HIGHEST_PROTOCOL)\n",
    "        print('Saved %s..' %path)"
   ]
  },
  {
   "cell_type": "code",
   "execution_count": null,
   "metadata": {},
   "outputs": [],
   "source": [
    "def process_caption_data(caption_file, image_dir, max_length):\n",
    "    with open(caption_file) as f:\n",
    "        caption_data = json.load(f)\n",
    "    \n",
    "    id_to_filename = {image['id']: image['file_name'] for image in caption_data['images']}\n",
    "    \n",
    "    data = []\n",
    "    for annotation in caption_data['annotations']:\n",
    "        image_id = annotation['image_id']\n",
    "        annotation['file_name'] = os.path.join(image_dir, id_to_filename[image_id])\n",
    "        data += [annotation]\n",
    "        \n",
    "    caption_data = pd.DataFrame.from_dict(data)\n",
    "    del caption_data['id']\n",
    "    caption_data.sort_values(by='image_id', inplace=True)\n",
    "    caption_data = caption_data.reset_index(drop=True)\n",
    "    \n",
    "    del_idx = []\n",
    "    sum = 0\n",
    "    for i, caption in enumerate(caption_data['caption']):\n",
    "        caption = caption.replace('.','').replace(',','').replace(\"'\",\"\").replace('\"','')\n",
    "        caption = caption.replace('&','and').replace('(','').replace(\")\",\"\").replace('-',' ')\n",
    "        caption = \" \".join(caption.split())  # replace multiple spaces\n",
    "        \n",
    "        caption_data.set_value(i, 'caption', caption.lower())\n",
    "        sum += len(caption.split(\" \"))\n",
    "        if len(caption.split(\" \")) > max_length:\n",
    "            del_idx.append(i)\n",
    "    \n",
    "    print(\"The number of captions before deletion: {}\".format(len(caption_data)))\n",
    "    caption_data = caption_data.drop(caption_data.index[del_idx])\n",
    "    caption_data = caption_data.reset_index(drop=True)\n",
    "    print(\"The number of captions after deletion: {}\".format(len(caption_data)))\n",
    "    \n",
    "    # remove that caption count is not 5\n",
    "    gp_data = caption_data.groupby(['image_id']).count()\n",
    "    idx = caption_data['image_id'].isin(gp_data[gp_data['caption'] <= 5].index) # ==\n",
    "    caption_data = caption_data[idx]\n",
    "    caption_data = caption_data.reset_index(drop=True)\n",
    "    print(\"The number of captions after deletion: {}\".format(len(caption_data)))\n",
    "    \n",
    "    caption_data['caption'] = '<start> ' + caption_data['caption'] + ' <end>'\n",
    "    \n",
    "    return caption_data    "
   ]
  },
  {
   "cell_type": "code",
   "execution_count": null,
   "metadata": {},
   "outputs": [],
   "source": [
    "def build_vocab(annotations, threshold=1):\n",
    "    counter = Counter()\n",
    "    max_len = 0\n",
    "    for i, caption in enumerate(annotations['caption']):\n",
    "        words = caption.split(' ') # caption contrains only lower-case words\n",
    "        for w in words:\n",
    "            counter[w] +=1\n",
    "        \n",
    "        if len(caption.split(\" \")) > max_len:\n",
    "            max_len = len(caption.split(\" \"))\n",
    "\n",
    "    vocab = [word for word in counter if counter[word] >= threshold]\n",
    "    print ('Filtered %d words to %d words with word count threshold %d.' % (len(counter), len(vocab), threshold))\n",
    "\n",
    "    word_to_idx = {u'<NULL>': 0, u'<START>': 1, u'<END>': 2}\n",
    "    idx = 3\n",
    "    for word in vocab:\n",
    "        word_to_idx[word] = idx\n",
    "        idx += 1\n",
    "    print(\"Max length of caption: \", max_len)\n",
    "    return word_to_idx"
   ]
  },
  {
   "cell_type": "code",
   "execution_count": null,
   "metadata": {},
   "outputs": [],
   "source": [
    "max_length=50"
   ]
  },
  {
   "cell_type": "code",
   "execution_count": null,
   "metadata": {
    "scrolled": false
   },
   "outputs": [],
   "source": [
    "caption_file = 'dataset/annotations/captions_train2014.json'\n",
    "image_dir = 'dataset/train2014/'\n",
    "\n",
    "train_dataset = process_caption_data(caption_file, image_dir, max_length)\n",
    "val_dataset = process_caption_data(caption_file='dataset/annotations/captions_val2014.json', \n",
    "                                   image_dir='dataset/val2014', max_length=max_length)"
   ]
  },
  {
   "cell_type": "code",
   "execution_count": null,
   "metadata": {
    "scrolled": false
   },
   "outputs": [],
   "source": [
    "save_pickle(train_dataset, 'data/train/train.annotations_3.pkl')\n",
    "save_pickle(val_dataset[:val_cutoff], 'data/val/val.annotations_3.pkl')\n",
    "save_pickle(val_dataset[val_cutoff:test_cutoff], 'data/test/test.annotations_3.pkl')"
   ]
  },
  {
   "cell_type": "code",
   "execution_count": null,
   "metadata": {},
   "outputs": [],
   "source": [
    "annotations = load_pickle('data/train/train.annotations.pkl')\n",
    "\n",
    "word_to_idx = build_vocab(annotations=annotations, threshold=1)\n",
    "save_pickle(word_to_idx, 'data/train/word_to_idx.pkl')"
   ]
  }
 ],
 "metadata": {
  "kernelspec": {
   "display_name": "Python 3",
   "language": "python",
   "name": "python3"
  },
  "language_info": {
   "codemirror_mode": {
    "name": "ipython",
    "version": 3
   },
   "file_extension": ".py",
   "mimetype": "text/x-python",
   "name": "python",
   "nbconvert_exporter": "python",
   "pygments_lexer": "ipython3",
   "version": "3.7.5"
  }
 },
 "nbformat": 4,
 "nbformat_minor": 2
}
